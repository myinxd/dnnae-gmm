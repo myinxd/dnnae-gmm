{
 "cells": [
  {
   "cell_type": "markdown",
   "metadata": {},
   "source": [
    "## Simulate handwritten digits simulation with trained DNNAE and GMM"
   ]
  },
  {
   "cell_type": "code",
   "execution_count": 1,
   "metadata": {
    "collapsed": true
   },
   "outputs": [],
   "source": [
    "# Copyright (C) 2018 Zhixian MA <zx@mazhixian.me>"
   ]
  },
  {
   "cell_type": "code",
   "execution_count": 2,
   "metadata": {
    "collapsed": true
   },
   "outputs": [],
   "source": [
    "import matplotlib\n",
    "matplotlib.use('Agg')\n",
    "%matplotlib inline\n",
    "import matplotlib.pyplot as plt"
   ]
  },
  {
   "cell_type": "code",
   "execution_count": 3,
   "metadata": {
    "collapsed": true
   },
   "outputs": [],
   "source": [
    "import tensorflow as tf"
   ]
  },
  {
   "cell_type": "code",
   "execution_count": 4,
   "metadata": {},
   "outputs": [
    {
     "name": "stderr",
     "output_type": "stream",
     "text": [
      "/home/mzx/.local/lib/python3.5/site-packages/h5py/__init__.py:34: FutureWarning: Conversion of the second argument of issubdtype from `float` to `np.floating` is deprecated. In future, it will be treated as `np.float64 == np.dtype(float).type`.\n",
      "  from ._conv import register_converters as _register_converters\n"
     ]
    }
   ],
   "source": [
    "from dnnae.dnn import dnn\n",
    "from dnnae.utils import utils"
   ]
  },
  {
   "cell_type": "code",
   "execution_count": 5,
   "metadata": {
    "collapsed": true
   },
   "outputs": [],
   "source": [
    "from dnnae.configs import config_mnist_bn\n",
    "from dnnae.configs import config_train"
   ]
  },
  {
   "cell_type": "markdown",
   "metadata": {},
   "source": [
    "### Load mnist data"
   ]
  },
  {
   "cell_type": "code",
   "execution_count": 6,
   "metadata": {},
   "outputs": [
    {
     "name": "stdout",
     "output_type": "stream",
     "text": [
      "Extracting MNIST_data/train-images-idx3-ubyte.gz\n",
      "Extracting MNIST_data/train-labels-idx1-ubyte.gz\n",
      "Extracting MNIST_data/t10k-images-idx3-ubyte.gz\n",
      "Extracting MNIST_data/t10k-labels-idx1-ubyte.gz\n"
     ]
    }
   ],
   "source": [
    "# Step1 load MNITST data\n",
    "from tensorflow.examples.tutorials.mnist import input_data\n",
    "mnist = input_data.read_data_sets(\"MNIST_data\", one_hot=False, validation_size=5000)"
   ]
  },
  {
   "cell_type": "code",
   "execution_count": 7,
   "metadata": {
    "collapsed": true
   },
   "outputs": [],
   "source": [
    "cf = config_mnist_bn\n",
    "tr_cf = config_train"
   ]
  },
  {
   "cell_type": "markdown",
   "metadata": {},
   "source": [
    "### Build the net"
   ]
  },
  {
   "cell_type": "code",
   "execution_count": 8,
   "metadata": {},
   "outputs": [
    {
     "name": "stdout",
     "output_type": "stream",
     "text": [
      "Layer ID    Layer type    Layer shape\n",
      "0 Input layer [None, 784]\n",
      "1 FC layer 0 [None, 256]\n",
      "2 BN layer 0 [None, 256]\n",
      "3 FC layer 1 [None, 128]\n",
      "4 BN layer 1 [None, 128]\n",
      "5 Softmax layer [None, 10]\n",
      "6 Encoder layer [None, 32]\n",
      "7 FC layer 1 [None, 128]\n",
      "8 BN layer 1 [None, 128]\n",
      "9 FC layer 0 [None, 256]\n",
      "10 BN layer 0 [None, 256]\n",
      "11 Output layer [None, 784]\n"
     ]
    }
   ],
   "source": [
    "net = dnn(cf)\n",
    "net.dnn_build()\n",
    "# print the net structure\n",
    "net.dnn_print()"
   ]
  },
  {
   "cell_type": "markdown",
   "metadata": {},
   "source": [
    "### Restore the net"
   ]
  },
  {
   "cell_type": "code",
   "execution_count": 9,
   "metadata": {},
   "outputs": [
    {
     "name": "stdout",
     "output_type": "stream",
     "text": [
      "INFO:tensorflow:Restoring parameters from ./dnnae_mnist/model_dnnae.ckpt\n"
     ]
    }
   ],
   "source": [
    "net.get_learning_rate()\n",
    "net.get_loss()\n",
    "net.get_accuracy()\n",
    "net.get_opt_mse()\n",
    "net.get_opt_ce()\n",
    "\n",
    "# load the net\n",
    "import os\n",
    "foldname = \"./dnnae_mnist\"\n",
    "name = 'dnnae.pkl'\n",
    "net.sess, name = utils.load_net(os.path.join(foldname, name))"
   ]
  },
  {
   "cell_type": "markdown",
   "metadata": {},
   "source": [
    "### Construct GMM model"
   ]
  },
  {
   "cell_type": "code",
   "execution_count": 21,
   "metadata": {},
   "outputs": [],
   "source": [
    "# Get code: batchly\n",
    "import numpy as np\n",
    "labels = mnist.train.labels\n",
    "idx = np.where(labels == 5)[0]\n",
    "\n",
    "code = np.zeros((len(idx), cf.layers[-1]))\n",
    "batchsize = tr_cf.batchsize\n",
    "numbatch = len(idx) // batchsize\n",
    "\n",
    "x_data = mnist.train.images\n",
    "for i in range(numbatch):\n",
    "    code[i*batchsize: (i+1)*batchsize] = utils.get_feature(\n",
    "        net=net,data=x_data[idx[i*batchsize:(i+1)*batchsize]])"
   ]
  },
  {
   "cell_type": "code",
   "execution_count": 22,
   "metadata": {},
   "outputs": [],
   "source": [
    "# FRI\n",
    "gmm = utils.getGMM(data=code, n_components=11, covariance_type='full')"
   ]
  },
  {
   "cell_type": "code",
   "execution_count": 23,
   "metadata": {
    "collapsed": true
   },
   "outputs": [],
   "source": [
    "# simulate 10 samples\n",
    "rs = cf.rs\n",
    "code_sim = gmm.sample(n_samples=10)[0]\n",
    "img_sim = net.sess.run(\n",
    "    net.outputs_de, \n",
    "    feed_dict={net.inputs: np.zeros((10,rs*rs)), \n",
    "               net.code: code_sim, \n",
    "               net.is_training: False})"
   ]
  },
  {
   "cell_type": "code",
   "execution_count": 24,
   "metadata": {},
   "outputs": [
    {
     "name": "stderr",
     "output_type": "stream",
     "text": [
      "/home/mzx/.local/lib/python3.5/site-packages/matplotlib/figure.py:403: UserWarning: matplotlib is currently using a non-GUI backend, so cannot show the figure\n",
      "  \"matplotlib is currently using a non-GUI backend, \"\n"
     ]
    },
    {
     "data": {
      "image/png": "[encoded data removed]",
      "text/plain": [
       "<matplotlib.figure.Figure at 0x7f1dbb845b00>"
      ]
     },
     "metadata": {},
     "output_type": "display_data"
    }
   ],
   "source": [
    "# plot result\n",
    "plt.rcParams[\"figure.figsize\"] = [18.0, 3.0]\n",
    "n_examples = 10\n",
    "fig, axs = plt.subplots(1, n_examples)\n",
    "for example_i in range(n_examples):\n",
    "    # raw\n",
    "    axs[example_i].imshow(np.reshape(img_sim[example_i, :], (rs, rs)), cmap='gray')\n",
    "    axs[example_i].axis('off')\n",
    "\n",
    "fig.show()\n",
    "plt.draw()"
   ]
  }
 ],
 "metadata": {
  "kernelspec": {
   "display_name": "Python 3",
   "language": "python",
   "name": "python3"
  },
  "language_info": {
   "codemirror_mode": {
    "name": "ipython",
    "version": 3
   },
   "file_extension": ".py",
   "mimetype": "text/x-python",
   "name": "python",
   "nbconvert_exporter": "python",
   "pygments_lexer": "ipython3",
   "version": "3.5.2"
  }
 },
 "nbformat": 4,
 "nbformat_minor": 2
}
