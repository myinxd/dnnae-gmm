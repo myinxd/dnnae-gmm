{
 "cells": [
  {
   "cell_type": "markdown",
   "metadata": {},
   "source": [
    "## Train a dnnae for handwritten digits simulation"
   ]
  },
  {
   "cell_type": "code",
   "execution_count": 1,
   "metadata": {
    "collapsed": true
   },
   "outputs": [],
   "source": [
    "# Copyright (C) 2018 Zhixian MA <zx@mazhixian.me>"
   ]
  },
  {
   "cell_type": "code",
   "execution_count": 2,
   "metadata": {
    "collapsed": true
   },
   "outputs": [],
   "source": [
    "import matplotlib\n",
    "matplotlib.use('Agg')\n",
    "%matplotlib inline\n",
    "import matplotlib.pyplot as plt"
   ]
  },
  {
   "cell_type": "code",
   "execution_count": 3,
   "metadata": {
    "collapsed": true
   },
   "outputs": [],
   "source": [
    "import tensorflow as tf"
   ]
  },
  {
   "cell_type": "code",
   "execution_count": 4,
   "metadata": {},
   "outputs": [
    {
     "name": "stderr",
     "output_type": "stream",
     "text": [
      "/home/mzx/.local/lib/python3.5/site-packages/h5py/__init__.py:34: FutureWarning: Conversion of the second argument of issubdtype from `float` to `np.floating` is deprecated. In future, it will be treated as `np.float64 == np.dtype(float).type`.\n",
      "  from ._conv import register_converters as _register_converters\n"
     ]
    }
   ],
   "source": [
    "from dnnae.dnn import dnn\n",
    "from dnnae.utils import utils"
   ]
  },
  {
   "cell_type": "code",
   "execution_count": 5,
   "metadata": {
    "collapsed": true
   },
   "outputs": [],
   "source": [
    "from dnnae.configs import config_mnist_bn\n",
    "from dnnae.configs import config_train"
   ]
  },
  {
   "cell_type": "markdown",
   "metadata": {},
   "source": [
    "### Load mnist data"
   ]
  },
  {
   "cell_type": "code",
   "execution_count": 6,
   "metadata": {},
   "outputs": [
    {
     "name": "stdout",
     "output_type": "stream",
     "text": [
      "Extracting MNIST_data/train-images-idx3-ubyte.gz\n",
      "Extracting MNIST_data/train-labels-idx1-ubyte.gz\n",
      "Extracting MNIST_data/t10k-images-idx3-ubyte.gz\n",
      "Extracting MNIST_data/t10k-labels-idx1-ubyte.gz\n"
     ]
    }
   ],
   "source": [
    "# Step1 load MNITST data\n",
    "from tensorflow.examples.tutorials.mnist import input_data\n",
    "mnist = input_data.read_data_sets(\"MNIST_data\", one_hot=True, validation_size=5000)"
   ]
  },
  {
   "cell_type": "code",
   "execution_count": 7,
   "metadata": {
    "collapsed": true
   },
   "outputs": [],
   "source": [
    "cf = config_mnist_bn\n",
    "tr_cf = config_train"
   ]
  },
  {
   "cell_type": "markdown",
   "metadata": {},
   "source": [
    "### Build the net and train"
   ]
  },
  {
   "cell_type": "code",
   "execution_count": 8,
   "metadata": {},
   "outputs": [
    {
     "name": "stdout",
     "output_type": "stream",
     "text": [
      "Layer ID    Layer type    Layer shape\n",
      "0 Input layer [None, 784]\n",
      "1 FC layer 0 [None, 256]\n",
      "2 BN layer 0 [None, 256]\n",
      "3 FC layer 1 [None, 128]\n",
      "4 BN layer 1 [None, 128]\n",
      "5 Softmax layer [None, 10]\n",
      "6 Encoder layer [None, 32]\n",
      "7 FC layer 1 [None, 128]\n",
      "8 BN layer 1 [None, 128]\n",
      "9 FC layer 0 [None, 256]\n",
      "10 BN layer 0 [None, 256]\n",
      "11 Output layer [None, 784]\n"
     ]
    }
   ],
   "source": [
    "net = dnn(cf)\n",
    "net.dnn_build()\n",
    "# print the net structure\n",
    "net.dnn_print()"
   ]
  },
  {
   "cell_type": "code",
   "execution_count": 9,
   "metadata": {},
   "outputs": [
    {
     "name": "stdout",
     "output_type": "stream",
     "text": [
      "[2018-03-29: 21:09:59]: Epochs    Trn_loss_mse    Val_loss_mse    Trn_loss_ce    Val_loss_ce    Trn_acc    Val_acc\n",
      "[2018-03-29: 21:10:03]: 0    0.09327182    0.06087573    0.63936099    0.81755777    0.8162    0.8876\n",
      "[2018-03-29: 21:10:22]: 5    0.02536053    0.02362961    0.11718460    0.11021183    0.9679    0.9678\n",
      "[2018-03-29: 21:10:42]: 10    0.01803466    0.01691318    0.07674887    0.08720252    0.9790    0.9736\n",
      "[2018-03-29: 21:11:01]: 15    0.01420287    0.01288835    0.06028467    0.07941795    0.9835    0.9766\n",
      "[2018-03-29: 21:11:21]: 20    0.01226631    0.01090664    0.04678404    0.07463818    0.9881    0.9776\n",
      "[2018-03-29: 21:11:40]: 25    0.01107594    0.00970362    0.03774372    0.07588881    0.9900    0.9766\n",
      "[2018-03-29: 21:12:00]: 30    0.01026935    0.00899743    0.03066264    0.07746560    0.9926    0.9772\n",
      "[2018-03-29: 21:12:20]: 35    0.00970752    0.00846974    0.02615600    0.08132840    0.9933    0.9758\n",
      "[2018-03-29: 21:12:39]: 40    0.00931584    0.00807546    0.02264532    0.07982620    0.9944    0.9756\n",
      "[2018-03-29: 21:12:59]: 45    0.00896111    0.00778085    0.01919853    0.08736262    0.9953    0.9744\n",
      "[2018-03-29: 21:13:19]: 50    0.00869462    0.00755772    0.01800029    0.08937182    0.9956    0.9744\n",
      "[2018-03-29: 21:13:38]: 55    0.00841720    0.00732594    0.01599260    0.09371824    0.9964    0.9748\n",
      "[2018-03-29: 21:13:58]: 60    0.00821739    0.00713984    0.01385636    0.09539911    0.9969    0.9740\n",
      "[2018-03-29: 21:14:18]: 65    0.00804290    0.00696369    0.01414769    0.09794818    0.9966    0.9740\n",
      "[2018-03-29: 21:14:39]: 70    0.00786452    0.00685435    0.01216392    0.09312935    0.9973    0.9758\n",
      "[2018-03-29: 21:15:00]: 75    0.00773603    0.00671088    0.01229741    0.10280638    0.9969    0.9744\n",
      "[2018-03-29: 21:15:20]: 80    0.00761401    0.00659023    0.01085734    0.10617082    0.9977    0.9726\n",
      "[2018-03-29: 21:15:43]: 85    0.00750807    0.00648009    0.01023946    0.10355747    0.9977    0.9716\n",
      "[2018-03-29: 21:16:03]: 90    0.00741884    0.00638448    0.01090108    0.10415925    0.9972    0.9754\n",
      "[2018-03-29: 21:16:23]: 95    0.00730511    0.00633087    0.00953799    0.10640533    0.9980    0.9730\n"
     ]
    }
   ],
   "source": [
    "# train the net\n",
    "net.dnn_train_mnist_cmb(mnist=mnist, train_configs=tr_cf)"
   ]
  },
  {
   "cell_type": "markdown",
   "metadata": {},
   "source": [
    "### Test the net"
   ]
  },
  {
   "cell_type": "code",
   "execution_count": 10,
   "metadata": {
    "collapsed": true
   },
   "outputs": [],
   "source": [
    "n_examples = 10\n",
    "img_test, _ = mnist.test.next_batch(n_examples)"
   ]
  },
  {
   "cell_type": "code",
   "execution_count": 12,
   "metadata": {},
   "outputs": [],
   "source": [
    "img_est = net.sess.run(\n",
    "    net.outputs_de, \n",
    "    feed_dict={net.inputs: img_test, \n",
    "               net.outputs: img_test,\n",
    "               net.is_training: False\n",
    "               })"
   ]
  },
  {
   "cell_type": "code",
   "execution_count": 15,
   "metadata": {},
   "outputs": [
    {
     "name": "stderr",
     "output_type": "stream",
     "text": [
      "/home/mzx/.local/lib/python3.5/site-packages/matplotlib/figure.py:403: UserWarning: matplotlib is currently using a non-GUI backend, so cannot show the figure\n",
      "  \"matplotlib is currently using a non-GUI backend, \"\n"
     ]
    },
    {
     "data": {
      "image/png": "[encoded data removed]",
      "text/plain": [
       "<matplotlib.figure.Figure at 0x7fcf0b7ff128>"
      ]
     },
     "metadata": {},
     "output_type": "display_data"
    }
   ],
   "source": [
    "import numpy as np\n",
    "fig, axs = plt.subplots(2, n_examples, figsize=(n_examples, 2))\n",
    "for example_i in range(n_examples):\n",
    "    # original\n",
    "    axs[0][example_i].imshow(np.reshape(img_test[example_i, :], (28, 28)), cmap='gray')\n",
    "    axs[0][example_i].axis('off')\n",
    "    # reconstructed\n",
    "    axs[1][example_i].imshow(np.reshape(img_est[example_i, :], (28, 28)), cmap='gray')\n",
    "    axs[1][example_i].axis('off')\n",
    "\n",
    "fig.show()\n",
    "plt.draw()"
   ]
  },
  {
   "cell_type": "markdown",
   "metadata": {
    "collapsed": true
   },
   "source": [
    "### Save the net"
   ]
  },
  {
   "cell_type": "code",
   "execution_count": 17,
   "metadata": {},
   "outputs": [],
   "source": [
    "import os\n",
    "foldname = \"./dnnae_mnist\"\n",
    "name = \"dnnae.pkl\"\n",
    "netname = \"model_dnnae.ckpt\"\n",
    "namepath = os.path.join(foldname, name)\n",
    "netpath = os.path.join(foldname, netname)\n",
    "savedict = {'netpath': netpath}\n",
    "if os.path.exists(foldname):\n",
    "    os.system(\"rm -r %s\" % (foldname))\n",
    "os.mkdir(foldname)\n",
    "utils.save_net(sess=net.sess,\n",
    "               namepath=namepath,\n",
    "               netpath=netpath,\n",
    "               savedict=savedict)"
   ]
  }
 ],
 "metadata": {
  "kernelspec": {
   "display_name": "Python 3",
   "language": "python",
   "name": "python3"
  },
  "language_info": {
   "codemirror_mode": {
    "name": "ipython",
    "version": 3
   },
   "file_extension": ".py",
   "mimetype": "text/x-python",
   "name": "python",
   "nbconvert_exporter": "python",
   "pygments_lexer": "ipython3",
   "version": "3.5.2"
  }
 },
 "nbformat": 4,
 "nbformat_minor": 2
}
